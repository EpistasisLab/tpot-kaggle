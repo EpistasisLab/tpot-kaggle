{
 "cells": [
  {
   "cell_type": "code",
   "execution_count": 2,
   "metadata": {
    "collapsed": false
   },
   "outputs": [],
   "source": [
    "# Import required libraries\n",
    "import sys\n",
    "sys.path.insert(0, \"/anaconda/lib/python2.7/site-packages\")\n",
    "import os\n",
    "import numpy as np\n",
    "import pandas as pd\n",
    "from pandas import Series\n",
    "import matplotlib\n",
    "%matplotlib inline\n",
    "import matplotlib.pyplot as plt\n",
    "import matplotlib.dates as mdates\n",
    "from __future__ import division\n",
    "from scipy import stats\n",
    "import seaborn as sns\n",
    "os.chdir('/Users/wandawang/Desktop')\n",
    "import re\n",
    "from tpot import TPOTClassifier\n",
    "from sklearn.cross_validation import train_test_split\n",
    "import math"
   ]
  },
  {
   "cell_type": "code",
   "execution_count": 3,
   "metadata": {
    "collapsed": false
   },
   "outputs": [],
   "source": [
    "train = pd.read_csv('data/train_users_2.csv')\n",
    "test = pd.read_csv('data/test_users.csv')\n",
    "countries = pd.read_csv('data/countries.csv')\n",
    "user_demo = pd.read_csv('data/age_gender_bkts.csv')\n",
    "sessions = pd.read_csv('data/sessions.csv')"
   ]
  },
  {
   "cell_type": "code",
   "execution_count": null,
   "metadata": {
    "collapsed": false
   },
   "outputs": [],
   "source": [
    "train.shape #213451.00,16\n",
    "train.head(3)"
   ]
  },
  {
   "cell_type": "code",
   "execution_count": 5,
   "metadata": {
    "collapsed": false
   },
   "outputs": [
    {
     "data": {
      "text/plain": [
       "id                          object\n",
       "date_account_created        object\n",
       "timestamp_first_active       int64\n",
       "date_first_booking          object\n",
       "gender                      object\n",
       "age                        float64\n",
       "signup_method               object\n",
       "signup_flow                  int64\n",
       "language                    object\n",
       "affiliate_channel           object\n",
       "affiliate_provider          object\n",
       "first_affiliate_tracked     object\n",
       "signup_app                  object\n",
       "first_device_type           object\n",
       "first_browser               object\n",
       "country_destination         object\n",
       "dtype: object"
      ]
     },
     "execution_count": 5,
     "metadata": {},
     "output_type": "execute_result"
    }
   ],
   "source": [
    "train.dtypes "
   ]
  },
  {
   "cell_type": "code",
   "execution_count": 6,
   "metadata": {
    "collapsed": false
   },
   "outputs": [
    {
     "data": {
      "text/html": [
       "<div>\n",
       "<table border=\"1\" class=\"dataframe\">\n",
       "  <thead>\n",
       "    <tr style=\"text-align: right;\">\n",
       "      <th></th>\n",
       "      <th>country_destination</th>\n",
       "      <th>lat_destination</th>\n",
       "      <th>lng_destination</th>\n",
       "      <th>distance_km</th>\n",
       "      <th>destination_km2</th>\n",
       "      <th>destination_language</th>\n",
       "      <th>language_levenshtein_distance</th>\n",
       "    </tr>\n",
       "  </thead>\n",
       "  <tbody>\n",
       "    <tr>\n",
       "      <th>0</th>\n",
       "      <td>AU</td>\n",
       "      <td>-26.853388</td>\n",
       "      <td>133.275160</td>\n",
       "      <td>15297.7440</td>\n",
       "      <td>7741220.0</td>\n",
       "      <td>eng</td>\n",
       "      <td>0.00</td>\n",
       "    </tr>\n",
       "    <tr>\n",
       "      <th>1</th>\n",
       "      <td>CA</td>\n",
       "      <td>62.393303</td>\n",
       "      <td>-96.818146</td>\n",
       "      <td>2828.1333</td>\n",
       "      <td>9984670.0</td>\n",
       "      <td>eng</td>\n",
       "      <td>0.00</td>\n",
       "    </tr>\n",
       "    <tr>\n",
       "      <th>2</th>\n",
       "      <td>DE</td>\n",
       "      <td>51.165707</td>\n",
       "      <td>10.452764</td>\n",
       "      <td>7879.5680</td>\n",
       "      <td>357022.0</td>\n",
       "      <td>deu</td>\n",
       "      <td>72.61</td>\n",
       "    </tr>\n",
       "  </tbody>\n",
       "</table>\n",
       "</div>"
      ],
      "text/plain": [
       "  country_destination  lat_destination  lng_destination  distance_km  \\\n",
       "0                  AU       -26.853388       133.275160   15297.7440   \n",
       "1                  CA        62.393303       -96.818146    2828.1333   \n",
       "2                  DE        51.165707        10.452764    7879.5680   \n",
       "\n",
       "   destination_km2 destination_language   language_levenshtein_distance  \n",
       "0        7741220.0                   eng                           0.00  \n",
       "1        9984670.0                   eng                           0.00  \n",
       "2         357022.0                   deu                          72.61  "
      ]
     },
     "execution_count": 6,
     "metadata": {},
     "output_type": "execute_result"
    }
   ],
   "source": [
    "countries.head(3)\n",
    "#countries.shape #(10, 7)"
   ]
  },
  {
   "cell_type": "code",
   "execution_count": 7,
   "metadata": {
    "collapsed": true
   },
   "outputs": [],
   "source": [
    "#create age_buckets for training, to match with user_demo age buckets\n",
    "\n",
    "#merge user_demo with countries?"
   ]
  },
  {
   "cell_type": "code",
   "execution_count": 8,
   "metadata": {
    "collapsed": false
   },
   "outputs": [
    {
     "data": {
      "text/html": [
       "<div>\n",
       "<table border=\"1\" class=\"dataframe\">\n",
       "  <thead>\n",
       "    <tr style=\"text-align: right;\">\n",
       "      <th></th>\n",
       "      <th>age_bucket</th>\n",
       "      <th>country_destination</th>\n",
       "      <th>gender</th>\n",
       "      <th>population_in_thousands</th>\n",
       "      <th>year</th>\n",
       "    </tr>\n",
       "  </thead>\n",
       "  <tbody>\n",
       "    <tr>\n",
       "      <th>0</th>\n",
       "      <td>100+</td>\n",
       "      <td>AU</td>\n",
       "      <td>male</td>\n",
       "      <td>1.0</td>\n",
       "      <td>2015.0</td>\n",
       "    </tr>\n",
       "    <tr>\n",
       "      <th>1</th>\n",
       "      <td>95-99</td>\n",
       "      <td>AU</td>\n",
       "      <td>male</td>\n",
       "      <td>9.0</td>\n",
       "      <td>2015.0</td>\n",
       "    </tr>\n",
       "    <tr>\n",
       "      <th>2</th>\n",
       "      <td>90-94</td>\n",
       "      <td>AU</td>\n",
       "      <td>male</td>\n",
       "      <td>47.0</td>\n",
       "      <td>2015.0</td>\n",
       "    </tr>\n",
       "  </tbody>\n",
       "</table>\n",
       "</div>"
      ],
      "text/plain": [
       "  age_bucket country_destination gender  population_in_thousands    year\n",
       "0       100+                  AU   male                      1.0  2015.0\n",
       "1      95-99                  AU   male                      9.0  2015.0\n",
       "2      90-94                  AU   male                     47.0  2015.0"
      ]
     },
     "execution_count": 8,
     "metadata": {},
     "output_type": "execute_result"
    }
   ],
   "source": [
    "user_demo.head(3) #age_bucket\n",
    "#user_demo.shape #(420, 5)\n",
    "#user_demo['age_bucket'].unique()"
   ]
  },
  {
   "cell_type": "code",
   "execution_count": 9,
   "metadata": {
    "collapsed": false
   },
   "outputs": [
    {
     "data": {
      "text/html": [
       "<div>\n",
       "<table border=\"1\" class=\"dataframe\">\n",
       "  <thead>\n",
       "    <tr style=\"text-align: right;\">\n",
       "      <th></th>\n",
       "      <th>user_id</th>\n",
       "      <th>sum_secs_elapsed</th>\n",
       "      <th>counts</th>\n",
       "    </tr>\n",
       "  </thead>\n",
       "  <tbody>\n",
       "    <tr>\n",
       "      <th>0</th>\n",
       "      <td>00023iyk9l</td>\n",
       "      <td>867896.0</td>\n",
       "      <td>40</td>\n",
       "    </tr>\n",
       "    <tr>\n",
       "      <th>1</th>\n",
       "      <td>0010k6l0om</td>\n",
       "      <td>586543.0</td>\n",
       "      <td>63</td>\n",
       "    </tr>\n",
       "    <tr>\n",
       "      <th>2</th>\n",
       "      <td>001wyh0pz8</td>\n",
       "      <td>282965.0</td>\n",
       "      <td>90</td>\n",
       "    </tr>\n",
       "    <tr>\n",
       "      <th>3</th>\n",
       "      <td>0028jgx1x1</td>\n",
       "      <td>297010.0</td>\n",
       "      <td>31</td>\n",
       "    </tr>\n",
       "    <tr>\n",
       "      <th>4</th>\n",
       "      <td>002qnbzfs5</td>\n",
       "      <td>6487080.0</td>\n",
       "      <td>789</td>\n",
       "    </tr>\n",
       "  </tbody>\n",
       "</table>\n",
       "</div>"
      ],
      "text/plain": [
       "      user_id  sum_secs_elapsed  counts\n",
       "0  00023iyk9l          867896.0      40\n",
       "1  0010k6l0om          586543.0      63\n",
       "2  001wyh0pz8          282965.0      90\n",
       "3  0028jgx1x1          297010.0      31\n",
       "4  002qnbzfs5         6487080.0     789"
      ]
     },
     "execution_count": 9,
     "metadata": {},
     "output_type": "execute_result"
    }
   ],
   "source": [
    "#sessions grouping by user\n",
    "#Group by user_id, aggregate by number of counts (counting device_type as it is never NA), \n",
    "#and total sum of elapsed time in seconds\n",
    "group_sessions = sessions.groupby(\"user_id\").agg({'device_type':'count', 'secs_elapsed':'sum'})\n",
    "group_sessions.columns = ['sum_secs_elapsed', 'counts']\n",
    "group_sessions.reset_index(level=0, inplace=True)\n",
    "group_sessions.head() "
   ]
  },
  {
   "cell_type": "code",
   "execution_count": 10,
   "metadata": {
    "collapsed": false
   },
   "outputs": [
    {
     "data": {
      "text/html": [
       "<div>\n",
       "<table border=\"1\" class=\"dataframe\">\n",
       "  <thead>\n",
       "    <tr style=\"text-align: right;\">\n",
       "      <th></th>\n",
       "      <th>user_id</th>\n",
       "      <th>sum_secs_elapsed</th>\n",
       "      <th>counts</th>\n",
       "    </tr>\n",
       "  </thead>\n",
       "  <tbody>\n",
       "    <tr>\n",
       "      <th>0</th>\n",
       "      <td>00023iyk9l</td>\n",
       "      <td>867896.0</td>\n",
       "      <td>40</td>\n",
       "    </tr>\n",
       "    <tr>\n",
       "      <th>1</th>\n",
       "      <td>0010k6l0om</td>\n",
       "      <td>586543.0</td>\n",
       "      <td>63</td>\n",
       "    </tr>\n",
       "    <tr>\n",
       "      <th>2</th>\n",
       "      <td>001wyh0pz8</td>\n",
       "      <td>282965.0</td>\n",
       "      <td>90</td>\n",
       "    </tr>\n",
       "  </tbody>\n",
       "</table>\n",
       "</div>"
      ],
      "text/plain": [
       "      user_id  sum_secs_elapsed  counts\n",
       "0  00023iyk9l          867896.0      40\n",
       "1  0010k6l0om          586543.0      63\n",
       "2  001wyh0pz8          282965.0      90"
      ]
     },
     "execution_count": 10,
     "metadata": {},
     "output_type": "execute_result"
    }
   ],
   "source": [
    "sessions.head(3) #merge sessions with train... action\n",
    "\n",
    "group_sessions.head(3) "
   ]
  },
  {
   "cell_type": "code",
   "execution_count": 11,
   "metadata": {
    "collapsed": true
   },
   "outputs": [],
   "source": [
    "#bucket all ages into format that user_demo is in for age\n",
    "def agebuckets(ages):\n",
    "    ageless =  [i for i in range(5,101,5)] # 5, 10, 15, 20...95, 100\n",
    "    buckets = ['%d-%d' %(i, i+4) for i in range(0,100,5)] # 0-4, 5-9, 10-14...90-94, 95-99\n",
    "    newlist = []\n",
    "    for i in range(len(ages)):\n",
    "        if math.isnan(ages[i]):\n",
    "            newlist.append('NA')\n",
    "        elif ages[i] <ageless[0]:\n",
    "            newlist.append(buckets[0])\n",
    "        elif ages[i] < ageless[1]:\n",
    "            newlist.append(buckets[1])\n",
    "        elif ages[i] < ageless[2]:\n",
    "            newlist.append(buckets[2])\n",
    "        elif ages[i] < ageless[3]:\n",
    "            newlist.append(buckets[3])\n",
    "        elif ages[i] < ageless[4]:\n",
    "            newlist.append(buckets[4])\n",
    "        elif ages[i] < ageless[5]:\n",
    "            newlist.append(buckets[5])\n",
    "        elif ages[i] < ageless[6]:\n",
    "            newlist.append(buckets[6])\n",
    "        elif ages[i] < ageless[7]:\n",
    "            newlist.append(buckets[7])\n",
    "        elif ages[i] < ageless[8]:\n",
    "            newlist.append(buckets[8])\n",
    "        elif ages[i] < ageless[9]:\n",
    "            newlist.append(buckets[9])\n",
    "        elif ages[i] < ageless[10]:\n",
    "            newlist.append(buckets[10])\n",
    "        elif ages[i] < ageless[11]:\n",
    "            newlist.append(buckets[11])\n",
    "        elif ages[i] < ageless[12]:\n",
    "            newlist.append(buckets[12]) \n",
    "        elif ages[i] < ageless[13]:\n",
    "            newlist.append(buckets[13]) \n",
    "        elif ages[i] < ageless[14]:\n",
    "            newlist.append(buckets[14])\n",
    "        elif ages[i] < ageless[15]:\n",
    "            newlist.append(buckets[15])\n",
    "        elif ages[i] < ageless[16]:\n",
    "            newlist.append(buckets[16])\n",
    "        elif ages[i] < ageless[17]:\n",
    "            newlist.append(buckets[17])\n",
    "        elif ages[i] < ageless[18]:\n",
    "            newlist.append(buckets[18])\n",
    "        elif ages[i] < ageless[19]:\n",
    "            newlist.append(buckets[19]) \n",
    "        else:\n",
    "            newlist.append('100+')\n",
    "    return newlist"
   ]
  },
  {
   "cell_type": "code",
   "execution_count": 12,
   "metadata": {
    "collapsed": false
   },
   "outputs": [],
   "source": [
    "train.age = agebuckets(train.age)"
   ]
  },
  {
   "cell_type": "code",
   "execution_count": 13,
   "metadata": {
    "collapsed": false
   },
   "outputs": [
    {
     "data": {
      "text/plain": [
       "array(['NA', '35-39', '55-59', '40-44', '45-49', '50-54', '30-34', '25-29',\n",
       "       '15-19', '65-69', '60-64', '5-9', '70-74', '100+', '95-99', '20-24',\n",
       "       '90-94', '75-79', '0-4', '85-89', '80-84'], dtype=object)"
      ]
     },
     "execution_count": 13,
     "metadata": {},
     "output_type": "execute_result"
    }
   ],
   "source": [
    "train.age.unique() #train.age"
   ]
  },
  {
   "cell_type": "code",
   "execution_count": 14,
   "metadata": {
    "collapsed": false
   },
   "outputs": [
    {
     "data": {
      "text/html": [
       "<div>\n",
       "<table border=\"1\" class=\"dataframe\">\n",
       "  <thead>\n",
       "    <tr style=\"text-align: right;\">\n",
       "      <th></th>\n",
       "      <th>user_id</th>\n",
       "      <th>action</th>\n",
       "      <th>action_type</th>\n",
       "      <th>action_detail</th>\n",
       "      <th>device_type</th>\n",
       "      <th>secs_elapsed</th>\n",
       "    </tr>\n",
       "  </thead>\n",
       "  <tbody>\n",
       "    <tr>\n",
       "      <th>0</th>\n",
       "      <td>d1mm9tcy42</td>\n",
       "      <td>lookup</td>\n",
       "      <td>NaN</td>\n",
       "      <td>NaN</td>\n",
       "      <td>Windows Desktop</td>\n",
       "      <td>319.0</td>\n",
       "    </tr>\n",
       "    <tr>\n",
       "      <th>1</th>\n",
       "      <td>d1mm9tcy42</td>\n",
       "      <td>search_results</td>\n",
       "      <td>click</td>\n",
       "      <td>view_search_results</td>\n",
       "      <td>Windows Desktop</td>\n",
       "      <td>67753.0</td>\n",
       "    </tr>\n",
       "    <tr>\n",
       "      <th>2</th>\n",
       "      <td>d1mm9tcy42</td>\n",
       "      <td>lookup</td>\n",
       "      <td>NaN</td>\n",
       "      <td>NaN</td>\n",
       "      <td>Windows Desktop</td>\n",
       "      <td>301.0</td>\n",
       "    </tr>\n",
       "  </tbody>\n",
       "</table>\n",
       "</div>"
      ],
      "text/plain": [
       "      user_id          action action_type        action_detail  \\\n",
       "0  d1mm9tcy42          lookup         NaN                  NaN   \n",
       "1  d1mm9tcy42  search_results       click  view_search_results   \n",
       "2  d1mm9tcy42          lookup         NaN                  NaN   \n",
       "\n",
       "       device_type  secs_elapsed  \n",
       "0  Windows Desktop         319.0  \n",
       "1  Windows Desktop       67753.0  \n",
       "2  Windows Desktop         301.0  "
      ]
     },
     "execution_count": 14,
     "metadata": {},
     "output_type": "execute_result"
    }
   ],
   "source": [
    "sessions.head(3)\n",
    "#pd.isnull(sessions).any()  #user_id,action, secs_elapsed"
   ]
  },
  {
   "cell_type": "markdown",
   "metadata": {},
   "source": [
    "#country_destination is response variable"
   ]
  },
  {
   "cell_type": "code",
   "execution_count": 15,
   "metadata": {
    "collapsed": false
   },
   "outputs": [],
   "source": [
    "#train.rename(columns={'country_destination': 'class'}, inplace=True)\n",
    "#train.dtypes "
   ]
  },
  {
   "cell_type": "code",
   "execution_count": 16,
   "metadata": {
    "collapsed": false
   },
   "outputs": [],
   "source": [
    "#train_destination_class = train.iloc[:,-1]  #12\n",
    "train_destination = train.iloc[:,-1]\n",
    "# we store the class labels, which we need to predict, in a separate variable.\n",
    "#train_destination_class.shape"
   ]
  },
  {
   "cell_type": "code",
   "execution_count": 17,
   "metadata": {
    "collapsed": true
   },
   "outputs": [],
   "source": [
    "#changing into datetime\n",
    "train.date_account_created = pd.to_datetime(train.date_account_created)\n",
    "train.timestamp_first_active = pd.to_datetime(train.timestamp_first_active, format = \"%Y%m%d%H%M%S\")\n",
    "train.date_first_booking = pd.to_datetime(train.date_first_booking)\n",
    "test.timestamp_first_active = pd.to_datetime(test.timestamp_first_active, format = \"%Y%m%d%H%M%S\")\n",
    "test.date_account_created = pd.to_datetime(test.date_account_created)"
   ]
  },
  {
   "cell_type": "code",
   "execution_count": 18,
   "metadata": {
    "collapsed": false
   },
   "outputs": [
    {
     "data": {
      "text/html": [
       "<div>\n",
       "<table border=\"1\" class=\"dataframe\">\n",
       "  <thead>\n",
       "    <tr style=\"text-align: right;\">\n",
       "      <th></th>\n",
       "      <th>id</th>\n",
       "      <th>date_account_created</th>\n",
       "      <th>timestamp_first_active</th>\n",
       "      <th>date_first_booking</th>\n",
       "      <th>gender</th>\n",
       "      <th>age</th>\n",
       "      <th>signup_method</th>\n",
       "      <th>signup_flow</th>\n",
       "      <th>language</th>\n",
       "      <th>affiliate_channel</th>\n",
       "      <th>affiliate_provider</th>\n",
       "      <th>first_affiliate_tracked</th>\n",
       "      <th>signup_app</th>\n",
       "      <th>first_device_type</th>\n",
       "      <th>first_browser</th>\n",
       "      <th>country_destination</th>\n",
       "    </tr>\n",
       "  </thead>\n",
       "  <tbody>\n",
       "    <tr>\n",
       "      <th>0</th>\n",
       "      <td>gxn3p5htnn</td>\n",
       "      <td>2010-06-28</td>\n",
       "      <td>2009-03-19 04:32:55</td>\n",
       "      <td>NaT</td>\n",
       "      <td>-unknown-</td>\n",
       "      <td>NA</td>\n",
       "      <td>facebook</td>\n",
       "      <td>0</td>\n",
       "      <td>en</td>\n",
       "      <td>direct</td>\n",
       "      <td>direct</td>\n",
       "      <td>untracked</td>\n",
       "      <td>Web</td>\n",
       "      <td>Mac Desktop</td>\n",
       "      <td>Chrome</td>\n",
       "      <td>NDF</td>\n",
       "    </tr>\n",
       "    <tr>\n",
       "      <th>1</th>\n",
       "      <td>820tgsjxq7</td>\n",
       "      <td>2011-05-25</td>\n",
       "      <td>2009-05-23 17:48:09</td>\n",
       "      <td>NaT</td>\n",
       "      <td>MALE</td>\n",
       "      <td>35-39</td>\n",
       "      <td>facebook</td>\n",
       "      <td>0</td>\n",
       "      <td>en</td>\n",
       "      <td>seo</td>\n",
       "      <td>google</td>\n",
       "      <td>untracked</td>\n",
       "      <td>Web</td>\n",
       "      <td>Mac Desktop</td>\n",
       "      <td>Chrome</td>\n",
       "      <td>NDF</td>\n",
       "    </tr>\n",
       "    <tr>\n",
       "      <th>2</th>\n",
       "      <td>4ft3gnwmtx</td>\n",
       "      <td>2010-09-28</td>\n",
       "      <td>2009-06-09 23:12:47</td>\n",
       "      <td>2010-08-02</td>\n",
       "      <td>FEMALE</td>\n",
       "      <td>55-59</td>\n",
       "      <td>basic</td>\n",
       "      <td>3</td>\n",
       "      <td>en</td>\n",
       "      <td>direct</td>\n",
       "      <td>direct</td>\n",
       "      <td>untracked</td>\n",
       "      <td>Web</td>\n",
       "      <td>Windows Desktop</td>\n",
       "      <td>IE</td>\n",
       "      <td>US</td>\n",
       "    </tr>\n",
       "  </tbody>\n",
       "</table>\n",
       "</div>"
      ],
      "text/plain": [
       "           id date_account_created timestamp_first_active date_first_booking  \\\n",
       "0  gxn3p5htnn           2010-06-28    2009-03-19 04:32:55                NaT   \n",
       "1  820tgsjxq7           2011-05-25    2009-05-23 17:48:09                NaT   \n",
       "2  4ft3gnwmtx           2010-09-28    2009-06-09 23:12:47         2010-08-02   \n",
       "\n",
       "      gender    age signup_method  signup_flow language affiliate_channel  \\\n",
       "0  -unknown-     NA      facebook            0       en            direct   \n",
       "1       MALE  35-39      facebook            0       en               seo   \n",
       "2     FEMALE  55-59         basic            3       en            direct   \n",
       "\n",
       "  affiliate_provider first_affiliate_tracked signup_app first_device_type  \\\n",
       "0             direct               untracked        Web       Mac Desktop   \n",
       "1             google               untracked        Web       Mac Desktop   \n",
       "2             direct               untracked        Web   Windows Desktop   \n",
       "\n",
       "  first_browser country_destination  \n",
       "0        Chrome                 NDF  \n",
       "1        Chrome                 NDF  \n",
       "2            IE                  US  "
      ]
     },
     "execution_count": 18,
     "metadata": {},
     "output_type": "execute_result"
    }
   ],
   "source": [
    "#Feature engineering: time variables\n",
    "train.head(3)"
   ]
  },
  {
   "cell_type": "code",
   "execution_count": 19,
   "metadata": {
    "collapsed": false
   },
   "outputs": [
    {
     "name": "stdout",
     "output_type": "stream",
     "text": [
      "Dimensions (213451, 16)\n",
      "Missingness for date_first_booking 124543\n",
      "Missingness for date_account_created 0\n",
      "Missingness for timestamp_first_active 0\n",
      "Missingness for gender 95970\n",
      "Missingness for age 0\n"
     ]
    }
   ],
   "source": [
    "print \"Dimensions\", train.shape\n",
    "print \"Missingness for date_first_booking\", sum(pd.isnull(train.date_first_booking))\n",
    "print \"Missingness for date_account_created\", sum(pd.isnull(train.date_account_created))\n",
    "print \"Missingness for timestamp_first_active\", sum(pd.isnull(train.timestamp_first_active))\n",
    "print \"Missingness for gender\", sum(np.logical_or(train.gender == '-unknown-', train.gender == 'OTHER'))\n",
    "print \"Missingness for age\", sum(pd.isnull(train.age))"
   ]
  },
  {
   "cell_type": "code",
   "execution_count": 20,
   "metadata": {
    "collapsed": false
   },
   "outputs": [],
   "source": [
    "# date_account_created       datetime64[ns]\n",
    "# timestamp_first_active     datetime64[ns]\n",
    "# date_first_booking         datetime64[ns]\n",
    "\n",
    "\n",
    "def timedif(L1, L2):\n",
    "    timediflist = []\n",
    "    for i in range(len(L1)):\n",
    "        try:\n",
    "            if (L1[i]-L2[i]).days <= -1:#datetime.timedelta(days=0):\n",
    "                timediflist.append('before')\n",
    "            elif (L1[i]-L2[i]).days ==0: #datetime.timedelta(days=1):\n",
    "                timediflist.append('same day')\n",
    "            else:\n",
    "                timediflist.append('greater 1 day')\n",
    "        except:\n",
    "            timediflist.append('NA')\n",
    "            \n",
    "    return timediflist"
   ]
  },
  {
   "cell_type": "code",
   "execution_count": 21,
   "metadata": {
    "collapsed": false
   },
   "outputs": [
    {
     "data": {
      "text/plain": [
       "array(['NA', 'before', 'greater 1 day', 'same day'], \n",
       "      dtype='|S13')"
      ]
     },
     "execution_count": 21,
     "metadata": {},
     "output_type": "execute_result"
    }
   ],
   "source": [
    "np.unique(timedif(train.date_first_booking, train.date_account_created)) \n",
    "np.unique(timedif(train.date_first_booking, train.timestamp_first_active)) "
   ]
  },
  {
   "cell_type": "code",
   "execution_count": 22,
   "metadata": {
    "collapsed": true
   },
   "outputs": [],
   "source": [
    "#adding time lag columns\n",
    "train['lag_account_created'] = timedif(train.date_first_booking, train.date_account_created)\n",
    "train['lag_first_active'] = timedif(train.date_first_booking, train.timestamp_first_active)\n",
    "train['lag_account_created_first_active'] = timedif(train.date_account_created, train.timestamp_first_active)"
   ]
  },
  {
   "cell_type": "code",
   "execution_count": 23,
   "metadata": {
    "collapsed": false
   },
   "outputs": [
    {
     "name": "stdout",
     "output_type": "stream",
     "text": [
      "Number of levels in category 'affiliate_provider': \b 18.00 \n",
      "Number of levels in category 'signup_app': \b 4.00 \n",
      "Number of levels in category 'first_affiliate_tracked': \b 8.00 \n",
      "Number of levels in category 'language': \b 25.00 \n",
      "Number of levels in category 'affiliate_channel': \b 8.00 \n"
     ]
    }
   ],
   "source": [
    "for cat in ['affiliate_provider', 'signup_app', 'first_affiliate_tracked', 'language', 'affiliate_channel']:\n",
    "    print(\"Number of levels in category '{0}': \\b {1:2.2f} \".format(cat, train[cat].unique().size))"
   ]
  },
  {
   "cell_type": "code",
   "execution_count": 24,
   "metadata": {
    "collapsed": false
   },
   "outputs": [
    {
     "data": {
      "text/plain": [
       "id                                  False\n",
       "date_account_created                False\n",
       "timestamp_first_active              False\n",
       "date_first_booking                   True\n",
       "gender                              False\n",
       "age                                 False\n",
       "signup_method                       False\n",
       "signup_flow                         False\n",
       "language                            False\n",
       "affiliate_channel                   False\n",
       "affiliate_provider                  False\n",
       "first_affiliate_tracked              True\n",
       "signup_app                          False\n",
       "first_device_type                   False\n",
       "first_browser                       False\n",
       "country_destination                 False\n",
       "lag_account_created                 False\n",
       "lag_first_active                    False\n",
       "lag_account_created_first_active    False\n",
       "dtype: bool"
      ]
     },
     "execution_count": 24,
     "metadata": {},
     "output_type": "execute_result"
    }
   ],
   "source": [
    "#Missigness\n",
    "pd.isnull(train).any() #date_first_booking,age,first_affiliate_tracked"
   ]
  },
  {
   "cell_type": "code",
   "execution_count": 25,
   "metadata": {
    "collapsed": false
   },
   "outputs": [],
   "source": [
    "population_in_thous = []\n",
    "for i in range(train.shape[0]):\n",
    "    if train.gender[i] == '-unknown-' or train.gender[i] == 'OTHER' or train.age[i] == 'NA' or \\\n",
    "    train.country_destination[i] == 'NDF' or train.country_destination[i] == 'other': \n",
    "        population_in_thous.append('NA')\n",
    "    else:\n",
    "        genders = user_demo.loc[user_demo.gender == train.gender[i].lower(),:] \n",
    "\n",
    "        dests = genders.loc[genders.country_destination == train.country_destination[i] ,:]    \n",
    "        population_in_thous.append(float((dests.loc[dests.age_bucket == train.age[i], 'population_in_thousands'])))\n",
    "        "
   ]
  },
  {
   "cell_type": "code",
   "execution_count": 26,
   "metadata": {
    "collapsed": true
   },
   "outputs": [],
   "source": [
    "train['population_in_thousands'] = population_in_thous"
   ]
  },
  {
   "cell_type": "code",
   "execution_count": 27,
   "metadata": {
    "collapsed": true
   },
   "outputs": [],
   "source": [
    "#merging with grouped sessions and countries, **note most of training data is not in sessions. see below \n",
    "test = pd.merge(test, group_sessions, left_on='id', right_on ='user_id', how='left')\n",
    "train = pd.merge(train, group_sessions, left_on='id', right_on ='user_id', how='left')\n",
    "test = test.drop('user_id', 1)\n",
    "train = train.drop('user_id', 1)\n",
    "train_m = pd.merge(train, countries, on='country_destination', how='left')"
   ]
  },
  {
   "cell_type": "code",
   "execution_count": 28,
   "metadata": {
    "collapsed": true
   },
   "outputs": [],
   "source": [
    "train_m = train_m.rename(columns={'destination_language ': 'destination_language'})"
   ]
  },
  {
   "cell_type": "code",
   "execution_count": 29,
   "metadata": {
    "collapsed": false
   },
   "outputs": [
    {
     "data": {
      "text/plain": [
       "Index([u'id', u'date_account_created', u'timestamp_first_active',\n",
       "       u'date_first_booking', u'gender', u'age', u'signup_method',\n",
       "       u'signup_flow', u'language', u'affiliate_channel',\n",
       "       u'affiliate_provider', u'first_affiliate_tracked', u'signup_app',\n",
       "       u'first_device_type', u'first_browser', u'country_destination',\n",
       "       u'lag_account_created', u'lag_first_active',\n",
       "       u'lag_account_created_first_active', u'population_in_thousands',\n",
       "       u'sum_secs_elapsed', u'counts', u'lat_destination', u'lng_destination',\n",
       "       u'distance_km', u'destination_km2', u'destination_language',\n",
       "       u'language_levenshtein_distance'],\n",
       "      dtype='object')"
      ]
     },
     "execution_count": 29,
     "metadata": {},
     "output_type": "execute_result"
    }
   ],
   "source": [
    "train_m.columns"
   ]
  },
  {
   "cell_type": "code",
   "execution_count": 30,
   "metadata": {
    "collapsed": false
   },
   "outputs": [
    {
     "data": {
      "text/plain": [
       "[None,\n",
       " None,\n",
       " None,\n",
       " None,\n",
       " None,\n",
       " None,\n",
       " None,\n",
       " None,\n",
       " None,\n",
       " None,\n",
       " None,\n",
       " None,\n",
       " None,\n",
       " None,\n",
       " None,\n",
       " None,\n",
       " None,\n",
       " None,\n",
       " None,\n",
       " None]"
      ]
     },
     "execution_count": 30,
     "metadata": {},
     "output_type": "execute_result"
    }
   ],
   "source": [
    "#remove id, time format columns and categorical columns\n",
    "excl = list(train_m.columns)\n",
    "toremove = ['id', 'date_account_created', 'timestamp_first_active', 'date_first_booking', \n",
    "            'population_in_thousands', 'gender', 'age', 'country_destination',\n",
    "            'signup_method', 'language', 'affiliate_channel', 'affiliate_provider', \n",
    "            'first_affiliate_tracked', 'signup_app', 'first_device_type', 'first_browser', \n",
    "            'lag_account_created', 'lag_first_active', 'lag_account_created_first_active', 'destination_language'] \n",
    "map(lambda x: excl.remove(x), toremove)"
   ]
  },
  {
   "cell_type": "code",
   "execution_count": 31,
   "metadata": {
    "collapsed": false
   },
   "outputs": [],
   "source": [
    "train_x = train_m.loc[:, excl]"
   ]
  },
  {
   "cell_type": "code",
   "execution_count": 32,
   "metadata": {
    "collapsed": false
   },
   "outputs": [
    {
     "name": "stdout",
     "output_type": "stream",
     "text": [
      "   -unknown-  FEMALE  MALE  OTHER\n",
      "0        1.0     0.0   0.0    0.0\n",
      "1        0.0     0.0   1.0    0.0\n",
      "2        0.0     1.0   0.0    0.0\n",
      "3        0.0     1.0   0.0    0.0\n",
      "4        1.0     0.0   0.0    0.0\n",
      "   0-4  100+  15-19  20-24  25-29  30-34  35-39  40-44  45-49  5-9 ...   \\\n",
      "0  0.0   0.0    0.0    0.0    0.0    0.0    0.0    0.0    0.0  0.0 ...    \n",
      "1  0.0   0.0    0.0    0.0    0.0    0.0    1.0    0.0    0.0  0.0 ...    \n",
      "2  0.0   0.0    0.0    0.0    0.0    0.0    0.0    0.0    0.0  0.0 ...    \n",
      "3  0.0   0.0    0.0    0.0    0.0    0.0    0.0    1.0    0.0  0.0 ...    \n",
      "4  0.0   0.0    0.0    0.0    0.0    0.0    0.0    1.0    0.0  0.0 ...    \n",
      "\n",
      "   55-59  60-64  65-69  70-74  75-79  80-84  85-89  90-94  95-99   NA  \n",
      "0    0.0    0.0    0.0    0.0    0.0    0.0    0.0    0.0    0.0  1.0  \n",
      "1    0.0    0.0    0.0    0.0    0.0    0.0    0.0    0.0    0.0  0.0  \n",
      "2    1.0    0.0    0.0    0.0    0.0    0.0    0.0    0.0    0.0  0.0  \n",
      "3    0.0    0.0    0.0    0.0    0.0    0.0    0.0    0.0    0.0  0.0  \n",
      "4    0.0    0.0    0.0    0.0    0.0    0.0    0.0    0.0    0.0  0.0  \n",
      "\n",
      "[5 rows x 21 columns]\n",
      "   basic  facebook  google\n",
      "0    0.0       1.0     0.0\n",
      "1    0.0       1.0     0.0\n",
      "2    1.0       0.0     0.0\n",
      "3    0.0       1.0     0.0\n",
      "4    1.0       0.0     0.0\n",
      "    ca   cs   da   de   el   en   es   fi   fr   hr ...    ko   nl   no   pl  \\\n",
      "0  0.0  0.0  0.0  0.0  0.0  1.0  0.0  0.0  0.0  0.0 ...   0.0  0.0  0.0  0.0   \n",
      "1  0.0  0.0  0.0  0.0  0.0  1.0  0.0  0.0  0.0  0.0 ...   0.0  0.0  0.0  0.0   \n",
      "2  0.0  0.0  0.0  0.0  0.0  1.0  0.0  0.0  0.0  0.0 ...   0.0  0.0  0.0  0.0   \n",
      "3  0.0  0.0  0.0  0.0  0.0  1.0  0.0  0.0  0.0  0.0 ...   0.0  0.0  0.0  0.0   \n",
      "4  0.0  0.0  0.0  0.0  0.0  1.0  0.0  0.0  0.0  0.0 ...   0.0  0.0  0.0  0.0   \n",
      "\n",
      "    pt   ru   sv   th   tr   zh  \n",
      "0  0.0  0.0  0.0  0.0  0.0  0.0  \n",
      "1  0.0  0.0  0.0  0.0  0.0  0.0  \n",
      "2  0.0  0.0  0.0  0.0  0.0  0.0  \n",
      "3  0.0  0.0  0.0  0.0  0.0  0.0  \n",
      "4  0.0  0.0  0.0  0.0  0.0  0.0  \n",
      "\n",
      "[5 rows x 25 columns]\n",
      "   api  content  direct  other  remarketing  sem-brand  sem-non-brand  seo\n",
      "0  0.0      0.0     1.0    0.0          0.0        0.0            0.0  0.0\n",
      "1  0.0      0.0     0.0    0.0          0.0        0.0            0.0  1.0\n",
      "2  0.0      0.0     1.0    0.0          0.0        0.0            0.0  0.0\n",
      "3  0.0      0.0     1.0    0.0          0.0        0.0            0.0  0.0\n",
      "4  0.0      0.0     1.0    0.0          0.0        0.0            0.0  0.0\n",
      "   baidu  bing  craigslist  daum  direct  email-marketing  facebook  \\\n",
      "0    0.0   0.0         0.0   0.0     1.0              0.0       0.0   \n",
      "1    0.0   0.0         0.0   0.0     0.0              0.0       0.0   \n",
      "2    0.0   0.0         0.0   0.0     1.0              0.0       0.0   \n",
      "3    0.0   0.0         0.0   0.0     1.0              0.0       0.0   \n",
      "4    0.0   0.0         0.0   0.0     1.0              0.0       0.0   \n",
      "\n",
      "   facebook-open-graph  google  gsp  meetup  naver  other  padmapper  vast  \\\n",
      "0                  0.0     0.0  0.0     0.0    0.0    0.0        0.0   0.0   \n",
      "1                  0.0     1.0  0.0     0.0    0.0    0.0        0.0   0.0   \n",
      "2                  0.0     0.0  0.0     0.0    0.0    0.0        0.0   0.0   \n",
      "3                  0.0     0.0  0.0     0.0    0.0    0.0        0.0   0.0   \n",
      "4                  0.0     0.0  0.0     0.0    0.0    0.0        0.0   0.0   \n",
      "\n",
      "   wayn  yahoo  yandex  \n",
      "0   0.0    0.0     0.0  \n",
      "1   0.0    0.0     0.0  \n",
      "2   0.0    0.0     0.0  \n",
      "3   0.0    0.0     0.0  \n",
      "4   0.0    0.0     0.0  \n",
      "   linked  local ops  marketing  omg  product  tracked-other  untracked\n",
      "0     0.0        0.0        0.0  0.0      0.0            0.0        1.0\n",
      "1     0.0        0.0        0.0  0.0      0.0            0.0        1.0\n",
      "2     0.0        0.0        0.0  0.0      0.0            0.0        1.0\n",
      "3     0.0        0.0        0.0  0.0      0.0            0.0        1.0\n",
      "4     0.0        0.0        0.0  0.0      0.0            0.0        1.0\n",
      "   Android  Moweb  Web  iOS\n",
      "0      0.0    0.0  1.0  0.0\n",
      "1      0.0    0.0  1.0  0.0\n",
      "2      0.0    0.0  1.0  0.0\n",
      "3      0.0    0.0  1.0  0.0\n",
      "4      0.0    0.0  1.0  0.0\n",
      "   Android Phone  Android Tablet  Desktop (Other)  Mac Desktop  Other/Unknown  \\\n",
      "0            0.0             0.0              0.0          1.0            0.0   \n",
      "1            0.0             0.0              0.0          1.0            0.0   \n",
      "2            0.0             0.0              0.0          0.0            0.0   \n",
      "3            0.0             0.0              0.0          1.0            0.0   \n",
      "4            0.0             0.0              0.0          1.0            0.0   \n",
      "\n",
      "   SmartPhone (Other)  Windows Desktop  iPad  iPhone  \n",
      "0                 0.0              0.0   0.0     0.0  \n",
      "1                 0.0              0.0   0.0     0.0  \n",
      "2                 0.0              1.0   0.0     0.0  \n",
      "3                 0.0              0.0   0.0     0.0  \n",
      "4                 0.0              0.0   0.0     0.0  \n",
      "   -unknown-  AOL Explorer  Android Browser  Apple Mail  Arora  Avant Browser  \\\n",
      "0        0.0           0.0              0.0         0.0    0.0            0.0   \n",
      "1        0.0           0.0              0.0         0.0    0.0            0.0   \n",
      "2        0.0           0.0              0.0         0.0    0.0            0.0   \n",
      "3        0.0           0.0              0.0         0.0    0.0            0.0   \n",
      "4        0.0           0.0              0.0         0.0    0.0            0.0   \n",
      "\n",
      "   BlackBerry Browser  Camino  Chrome  Chrome Mobile     ...      SeaMonkey  \\\n",
      "0                 0.0     0.0     1.0            0.0     ...            0.0   \n",
      "1                 0.0     0.0     1.0            0.0     ...            0.0   \n",
      "2                 0.0     0.0     0.0            0.0     ...            0.0   \n",
      "3                 0.0     0.0     0.0            0.0     ...            0.0   \n",
      "4                 0.0     0.0     1.0            0.0     ...            0.0   \n",
      "\n",
      "   Silk  SiteKiosk  SlimBrowser  Sogou Explorer  Stainless  TenFourFox  \\\n",
      "0   0.0        0.0          0.0             0.0        0.0         0.0   \n",
      "1   0.0        0.0          0.0             0.0        0.0         0.0   \n",
      "2   0.0        0.0          0.0             0.0        0.0         0.0   \n",
      "3   0.0        0.0          0.0             0.0        0.0         0.0   \n",
      "4   0.0        0.0          0.0             0.0        0.0         0.0   \n",
      "\n",
      "   TheWorld Browser  Yandex.Browser  wOSBrowser  \n",
      "0               0.0             0.0         0.0  \n",
      "1               0.0             0.0         0.0  \n",
      "2               0.0             0.0         0.0  \n",
      "3               0.0             0.0         0.0  \n",
      "4               0.0             0.0         0.0  \n",
      "\n",
      "[5 rows x 52 columns]\n",
      "    AU   CA   DE   ES   FR   GB   IT  NDF   NL   PT   US  other\n",
      "0  0.0  0.0  0.0  0.0  0.0  0.0  0.0  1.0  0.0  0.0  0.0    0.0\n",
      "1  0.0  0.0  0.0  0.0  0.0  0.0  0.0  1.0  0.0  0.0  0.0    0.0\n",
      "2  0.0  0.0  0.0  0.0  0.0  0.0  0.0  0.0  0.0  0.0  1.0    0.0\n",
      "3  0.0  0.0  0.0  0.0  0.0  0.0  0.0  0.0  0.0  0.0  0.0    1.0\n",
      "4  0.0  0.0  0.0  0.0  0.0  0.0  0.0  0.0  0.0  0.0  1.0    0.0\n",
      "    NA  before  greater 1 day  same day\n",
      "0  1.0     0.0            0.0       0.0\n",
      "1  1.0     0.0            0.0       0.0\n",
      "2  0.0     1.0            0.0       0.0\n",
      "3  0.0     0.0            1.0       0.0\n",
      "4  0.0     1.0            0.0       0.0\n",
      "    NA  before  greater 1 day  same day\n",
      "0  1.0     0.0            0.0       0.0\n",
      "1  1.0     0.0            0.0       0.0\n",
      "2  0.0     0.0            1.0       0.0\n",
      "3  0.0     0.0            1.0       0.0\n",
      "4  0.0     0.0            1.0       0.0\n",
      "   before  greater 1 day  same day\n",
      "0     0.0            1.0       0.0\n",
      "1     0.0            1.0       0.0\n",
      "2     0.0            1.0       0.0\n",
      "3     0.0            1.0       0.0\n",
      "4     0.0            1.0       0.0\n",
      "   deu  eng  fra  ita  nld  por  spa\n",
      "0  0.0  0.0  0.0  0.0  0.0  0.0  0.0\n",
      "1  0.0  0.0  0.0  0.0  0.0  0.0  0.0\n",
      "2  0.0  1.0  0.0  0.0  0.0  0.0  0.0\n",
      "3  0.0  0.0  0.0  0.0  0.0  0.0  0.0\n",
      "4  0.0  1.0  0.0  0.0  0.0  0.0  0.0\n"
     ]
    }
   ],
   "source": [
    "print pd.get_dummies(train_m.gender).head()\n",
    "print pd.get_dummies(train_m.age).head()\n",
    "print pd.get_dummies(train_m.signup_method).head()\n",
    "print pd.get_dummies(train_m.language).head()\n",
    "print pd.get_dummies(train_m.affiliate_channel).head()\n",
    "print pd.get_dummies(train_m.affiliate_provider).head()\n",
    "print pd.get_dummies(train_m.first_affiliate_tracked).head()\n",
    "print pd.get_dummies(train_m.signup_app).head()\n",
    "print pd.get_dummies(train_m.first_device_type).head()\n",
    "print pd.get_dummies(train_m.first_browser).head()\n",
    "print pd.get_dummies(train_m.country_destination).head()\n",
    "print pd.get_dummies(train_m.lag_account_created).head()\n",
    "print pd.get_dummies(train_m.lag_first_active).head()\n",
    "print pd.get_dummies(train_m.lag_account_created_first_active).head()\n",
    "print pd.get_dummies(train_m.destination_language).head()"
   ]
  },
  {
   "cell_type": "code",
   "execution_count": 33,
   "metadata": {
    "collapsed": true
   },
   "outputs": [],
   "source": [
    "#gender\n",
    "train_x[list(pd.get_dummies(train_m.gender).columns)[0]] = pd.get_dummies(train_m.gender).iloc[:,0]\n",
    "for i in range(len(list(pd.get_dummies(train_m.gender).columns))):\n",
    "    train_x[list(pd.get_dummies(train_m.gender).columns)[i]] = pd.get_dummies(train_m.gender).iloc[:,i]\n",
    "train_x['gender_unknown'] = pd.get_dummies(train_m.gender).iloc[:,0]\n",
    "train_x['gender_other'] = pd.get_dummies(train_m.gender).iloc[:,3]"
   ]
  },
  {
   "cell_type": "code",
   "execution_count": 34,
   "metadata": {
    "collapsed": false
   },
   "outputs": [],
   "source": [
    "\n",
    "#age\n",
    "train_x[list(pd.get_dummies(train_m.age).columns)[0]] = pd.get_dummies(train_m.age).iloc[:,0]\n",
    "for i in range(len(list(pd.get_dummies(train_m.age).columns))):\n",
    "    train_x[list(pd.get_dummies(train_m.age).columns)[i]] = pd.get_dummies(train_m.age).iloc[:,i]\n",
    "train_x['age_NA'] = pd.get_dummies(train_m.age).iloc[:,20]\n",
    "\n",
    "#signup_method\n",
    "train_x[list(pd.get_dummies(train_m.signup_method).columns)[0]] = pd.get_dummies(train_m.signup_method).iloc[:,0]\n",
    "for i in range(len(list(pd.get_dummies(train_m.signup_method).columns))):\n",
    "    train_x[list(pd.get_dummies(train_m.signup_method).columns)[i]] = pd.get_dummies(train_m.signup_method).iloc[:,i]\n",
    "\n",
    "#language\n",
    "train_x[list(pd.get_dummies(train_m.language).columns)[0]] = pd.get_dummies(train_m.language).iloc[:,0]\n",
    "for i in range(len(list(pd.get_dummies(train_m.language).columns))):\n",
    "    train_x[list(pd.get_dummies(train_m.language).columns)[i]] = pd.get_dummies(train_m.language).iloc[:,i]\n",
    "\n",
    "#affiliate_channel\n",
    "train_x[list(pd.get_dummies(train_m.affiliate_channel).columns)[0]] = pd.get_dummies(train_m.affiliate_channel).iloc[:,0]\n",
    "for i in range(len(list(pd.get_dummies(train_m.affiliate_channel).columns))):\n",
    "    train_x[list(pd.get_dummies(train_m.affiliate_channel).columns)[i]] = pd.get_dummies(train_m.affiliate_channel).iloc[:,i]\n",
    "\n",
    "#affiliate_provider\n",
    "train_x[list(pd.get_dummies(train_m.affiliate_provider).columns)[0]] = pd.get_dummies(train_m.affiliate_provider).iloc[:,0]\n",
    "for i in range(len(list(pd.get_dummies(train_m.affiliate_provider).columns))):\n",
    "    train_x[list(pd.get_dummies(train_m.affiliate_provider).columns)[i]] = pd.get_dummies(train_m.affiliate_provider).iloc[:,i]\n",
    "\n",
    "#first_affiliate_tracked\n",
    "train_x[list(pd.get_dummies(train_m.first_affiliate_tracked).columns)[0]] = pd.get_dummies(train_m.first_affiliate_tracked).iloc[:,0]\n",
    "for i in range(len(list(pd.get_dummies(train_m.first_affiliate_tracked).columns))):\n",
    "    train_x[list(pd.get_dummies(train_m.first_affiliate_tracked).columns)[i]] = pd.get_dummies(train_m.first_affiliate_tracked).iloc[:,i]\n",
    "\n",
    "#signup_app\n",
    "train_x[list(pd.get_dummies(train_m.signup_app).columns)[0]] = pd.get_dummies(train_m.signup_app).iloc[:,0]\n",
    "for i in range(len(list(pd.get_dummies(train_m.signup_app).columns))):\n",
    "    train_x[list(pd.get_dummies(train_m.signup_app).columns)[i]] = pd.get_dummies(train_m.signup_app).iloc[:,i]\n",
    "\n",
    "#first_device_type\n",
    "train_x[list(pd.get_dummies(train_m.first_device_type).columns)[0]] = pd.get_dummies(train_m.first_device_type).iloc[:,0]\n",
    "for i in range(len(list(pd.get_dummies(train_m.first_device_type).columns))):\n",
    "    train_x[list(pd.get_dummies(train_m.first_device_type).columns)[i]] = pd.get_dummies(train_m.first_device_type).iloc[:,i]\n",
    "\n",
    "#first_browser\n",
    "train_x[list(pd.get_dummies(train_m.first_browser).columns)[0]] = pd.get_dummies(train_m.first_browser).iloc[:,0]\n",
    "for i in range(len(list(pd.get_dummies(train_m.first_browser).columns))):\n",
    "    train_x[list(pd.get_dummies(train_m.first_browser).columns)[i]] = pd.get_dummies(train_m.first_browser).iloc[:,i]\n",
    "train_x['first_browser_unknown'] = pd.get_dummies(train_m.first_browser).iloc[:,0]\n",
    "    \n",
    "#country_destination\n",
    "train_x[list(pd.get_dummies(train_m.country_destination).columns)[0]] = pd.get_dummies(train_m.country_destination).iloc[:,0]\n",
    "for i in range(len(list(pd.get_dummies(train_m.country_destination).columns))):\n",
    "    train_x[list(pd.get_dummies(train_m.country_destination).columns)[i]] = pd.get_dummies(train_m.country_destination).iloc[:,i]\n",
    "train_x['country_dest_other'] = pd.get_dummies(train_m.country_destination).iloc[:,11]\n",
    "\n",
    "#lag_account_created\n",
    "train_x['lag_account_created_NA'] = pd.get_dummies(train_m.lag_account_created).iloc[:,0]\n",
    "train_x['lag_account_created_before'] = pd.get_dummies(train_m.lag_account_created).iloc[:,1]\n",
    "train_x['lag_account_created_greater1'] = pd.get_dummies(train_m.lag_account_created).iloc[:,2]\n",
    "train_x['lag_account_created_sameday'] = pd.get_dummies(train_m.lag_account_created).iloc[:,2]\n",
    "\n",
    "#lag_first_active\n",
    "train_x['lag_first_active_NA'] = pd.get_dummies(train_m.lag_first_active).iloc[:,0]\n",
    "train_x['lag_first_active_before'] = pd.get_dummies(train_m.lag_first_active).iloc[:,1]\n",
    "train_x['lag_first_active_greater1'] = pd.get_dummies(train_m.lag_first_active).iloc[:,2]\n",
    "train_x['lag_first_active_sameday'] = pd.get_dummies(train_m.lag_first_active).iloc[:,2]\n",
    "\n",
    "#lag_account_created_first_active\n",
    "train_x['lag_account_created_first_active_before'] = pd.get_dummies(train_m.lag_account_created_first_active).iloc[:,0]\n",
    "train_x['lag_account_created_first_active_greater1'] = pd.get_dummies(train_m.lag_account_created_first_active).iloc[:,1]\n",
    "train_x['lag_account_created_first_active_sameday'] = pd.get_dummies(train_m.lag_account_created_first_active).iloc[:,2]\n",
    "\n",
    "#destination_language\n",
    "train_x[list(pd.get_dummies(train_m.destination_language).columns)[0]] = pd.get_dummies(train_m.destination_language).iloc[:,0]\n",
    "for i in range(len(list(pd.get_dummies(train_m.destination_language).columns))):\n",
    "    train_x[list(pd.get_dummies(train_m.destination_language).columns)[i]] = pd.get_dummies(train_m.destination_language).iloc[:,i]\n",
    "\n",
    "train_x = train_x.drop('-unknown-', 1)\n",
    "train_x = train_x.drop('OTHER', 1)\n",
    "train_x = train_x.drop('NA', 1)\n"
   ]
  },
  {
   "cell_type": "code",
   "execution_count": 35,
   "metadata": {
    "collapsed": false
   },
   "outputs": [
    {
     "data": {
      "text/plain": [
       "Index([u'deu', u'eng', u'fra', u'ita', u'nld', u'por', u'spa'], dtype='object')"
      ]
     },
     "execution_count": 35,
     "metadata": {},
     "output_type": "execute_result"
    }
   ],
   "source": [
    "pd.get_dummies(train_m.destination_language).columns"
   ]
  },
  {
   "cell_type": "code",
   "execution_count": 36,
   "metadata": {
    "collapsed": false
   },
   "outputs": [
    {
     "data": {
      "text/plain": [
       "['signup_flow',\n",
       " 'sum_secs_elapsed',\n",
       " 'counts',\n",
       " 'lat_destination',\n",
       " 'lng_destination',\n",
       " 'distance_km',\n",
       " 'destination_km2',\n",
       " 'language_levenshtein_distance',\n",
       " 'FEMALE',\n",
       " 'MALE',\n",
       " 'gender_unknown',\n",
       " 'gender_other',\n",
       " '0-4',\n",
       " '100+',\n",
       " '15-19',\n",
       " '20-24',\n",
       " '25-29',\n",
       " '30-34',\n",
       " '35-39',\n",
       " '40-44',\n",
       " '45-49',\n",
       " '5-9',\n",
       " '50-54',\n",
       " '55-59',\n",
       " '60-64',\n",
       " '65-69',\n",
       " '70-74',\n",
       " '75-79',\n",
       " '80-84',\n",
       " '85-89',\n",
       " '90-94',\n",
       " '95-99',\n",
       " 'age_NA',\n",
       " 'basic',\n",
       " 'facebook',\n",
       " 'google',\n",
       " 'ca',\n",
       " 'cs',\n",
       " 'da',\n",
       " 'de',\n",
       " 'el',\n",
       " 'en',\n",
       " 'es',\n",
       " 'fi',\n",
       " 'fr',\n",
       " 'hr',\n",
       " 'hu',\n",
       " 'id',\n",
       " 'is',\n",
       " 'it',\n",
       " 'ja',\n",
       " 'ko',\n",
       " 'nl',\n",
       " 'no',\n",
       " 'pl',\n",
       " 'pt',\n",
       " 'ru',\n",
       " 'sv',\n",
       " 'th',\n",
       " 'tr',\n",
       " 'zh',\n",
       " 'api',\n",
       " 'content',\n",
       " 'direct',\n",
       " 'other',\n",
       " 'remarketing',\n",
       " 'sem-brand',\n",
       " 'sem-non-brand',\n",
       " 'seo',\n",
       " 'baidu',\n",
       " 'bing',\n",
       " 'craigslist',\n",
       " 'daum',\n",
       " 'email-marketing',\n",
       " 'facebook-open-graph',\n",
       " 'gsp',\n",
       " 'meetup',\n",
       " 'naver',\n",
       " 'padmapper',\n",
       " 'vast',\n",
       " 'wayn',\n",
       " 'yahoo',\n",
       " 'yandex',\n",
       " 'linked',\n",
       " 'local ops',\n",
       " 'marketing',\n",
       " 'omg',\n",
       " 'product',\n",
       " 'tracked-other',\n",
       " 'untracked',\n",
       " 'Android',\n",
       " 'Moweb',\n",
       " 'Web',\n",
       " 'iOS',\n",
       " 'Android Phone',\n",
       " 'Android Tablet',\n",
       " 'Desktop (Other)',\n",
       " 'Mac Desktop',\n",
       " 'Other/Unknown',\n",
       " 'SmartPhone (Other)',\n",
       " 'Windows Desktop',\n",
       " 'iPad',\n",
       " 'iPhone',\n",
       " 'AOL Explorer',\n",
       " 'Android Browser',\n",
       " 'Apple Mail',\n",
       " 'Arora',\n",
       " 'Avant Browser',\n",
       " 'BlackBerry Browser',\n",
       " 'Camino',\n",
       " 'Chrome',\n",
       " 'Chrome Mobile',\n",
       " 'Chromium',\n",
       " 'CometBird',\n",
       " 'Comodo Dragon',\n",
       " 'Conkeror',\n",
       " 'CoolNovo',\n",
       " 'Crazy Browser',\n",
       " 'Epic',\n",
       " 'Firefox',\n",
       " 'Flock',\n",
       " 'Google Earth',\n",
       " 'Googlebot',\n",
       " 'IE',\n",
       " 'IE Mobile',\n",
       " 'IceDragon',\n",
       " 'IceWeasel',\n",
       " 'Iron',\n",
       " 'Kindle Browser',\n",
       " 'Maxthon',\n",
       " 'Mobile Firefox',\n",
       " 'Mobile Safari',\n",
       " 'Mozilla',\n",
       " 'NetNewsWire',\n",
       " 'OmniWeb',\n",
       " 'Opera',\n",
       " 'Opera Mini',\n",
       " 'Opera Mobile',\n",
       " 'Outlook 2007',\n",
       " 'PS Vita browser',\n",
       " 'Pale Moon',\n",
       " 'Palm Pre web browser',\n",
       " 'RockMelt',\n",
       " 'Safari',\n",
       " 'SeaMonkey',\n",
       " 'Silk',\n",
       " 'SiteKiosk',\n",
       " 'SlimBrowser',\n",
       " 'Sogou Explorer',\n",
       " 'Stainless',\n",
       " 'TenFourFox',\n",
       " 'TheWorld Browser',\n",
       " 'Yandex.Browser',\n",
       " 'wOSBrowser',\n",
       " 'first_browser_unknown',\n",
       " 'AU',\n",
       " 'CA',\n",
       " 'DE',\n",
       " 'ES',\n",
       " 'FR',\n",
       " 'GB',\n",
       " 'IT',\n",
       " 'NDF',\n",
       " 'NL',\n",
       " 'PT',\n",
       " 'US',\n",
       " 'country_dest_other',\n",
       " 'lag_account_created_NA',\n",
       " 'lag_account_created_before',\n",
       " 'lag_account_created_greater1',\n",
       " 'lag_account_created_sameday',\n",
       " 'lag_first_active_NA',\n",
       " 'lag_first_active_before',\n",
       " 'lag_first_active_greater1',\n",
       " 'lag_first_active_sameday',\n",
       " 'lag_account_created_first_active_before',\n",
       " 'lag_account_created_first_active_greater1',\n",
       " 'lag_account_created_first_active_sameday',\n",
       " 'deu',\n",
       " 'eng',\n",
       " 'fra',\n",
       " 'ita',\n",
       " 'nld',\n",
       " 'por',\n",
       " 'spa']"
      ]
     },
     "execution_count": 36,
     "metadata": {},
     "output_type": "execute_result"
    }
   ],
   "source": [
    "list(train_x.columns)"
   ]
  },
  {
   "cell_type": "code",
   "execution_count": 37,
   "metadata": {
    "collapsed": false
   },
   "outputs": [
    {
     "data": {
      "text/html": [
       "<div>\n",
       "<table border=\"1\" class=\"dataframe\">\n",
       "  <thead>\n",
       "    <tr style=\"text-align: right;\">\n",
       "      <th></th>\n",
       "      <th>signup_flow</th>\n",
       "      <th>sum_secs_elapsed</th>\n",
       "      <th>counts</th>\n",
       "      <th>lat_destination</th>\n",
       "      <th>lng_destination</th>\n",
       "      <th>distance_km</th>\n",
       "      <th>destination_km2</th>\n",
       "      <th>language_levenshtein_distance</th>\n",
       "      <th>FEMALE</th>\n",
       "      <th>MALE</th>\n",
       "      <th>...</th>\n",
       "      <th>lag_account_created_first_active_before</th>\n",
       "      <th>lag_account_created_first_active_greater1</th>\n",
       "      <th>lag_account_created_first_active_sameday</th>\n",
       "      <th>deu</th>\n",
       "      <th>eng</th>\n",
       "      <th>fra</th>\n",
       "      <th>ita</th>\n",
       "      <th>nld</th>\n",
       "      <th>por</th>\n",
       "      <th>spa</th>\n",
       "    </tr>\n",
       "  </thead>\n",
       "  <tbody>\n",
       "    <tr>\n",
       "      <th>0</th>\n",
       "      <td>0</td>\n",
       "      <td>NaN</td>\n",
       "      <td>NaN</td>\n",
       "      <td>NaN</td>\n",
       "      <td>NaN</td>\n",
       "      <td>NaN</td>\n",
       "      <td>NaN</td>\n",
       "      <td>NaN</td>\n",
       "      <td>0.0</td>\n",
       "      <td>0.0</td>\n",
       "      <td>...</td>\n",
       "      <td>0.0</td>\n",
       "      <td>1.0</td>\n",
       "      <td>0.0</td>\n",
       "      <td>0.0</td>\n",
       "      <td>0.0</td>\n",
       "      <td>0.0</td>\n",
       "      <td>0.0</td>\n",
       "      <td>0.0</td>\n",
       "      <td>0.0</td>\n",
       "      <td>0.0</td>\n",
       "    </tr>\n",
       "    <tr>\n",
       "      <th>1</th>\n",
       "      <td>0</td>\n",
       "      <td>NaN</td>\n",
       "      <td>NaN</td>\n",
       "      <td>NaN</td>\n",
       "      <td>NaN</td>\n",
       "      <td>NaN</td>\n",
       "      <td>NaN</td>\n",
       "      <td>NaN</td>\n",
       "      <td>0.0</td>\n",
       "      <td>1.0</td>\n",
       "      <td>...</td>\n",
       "      <td>0.0</td>\n",
       "      <td>1.0</td>\n",
       "      <td>0.0</td>\n",
       "      <td>0.0</td>\n",
       "      <td>0.0</td>\n",
       "      <td>0.0</td>\n",
       "      <td>0.0</td>\n",
       "      <td>0.0</td>\n",
       "      <td>0.0</td>\n",
       "      <td>0.0</td>\n",
       "    </tr>\n",
       "    <tr>\n",
       "      <th>2</th>\n",
       "      <td>3</td>\n",
       "      <td>NaN</td>\n",
       "      <td>NaN</td>\n",
       "      <td>36.966427</td>\n",
       "      <td>-95.84403</td>\n",
       "      <td>0.0</td>\n",
       "      <td>9826675.0</td>\n",
       "      <td>0.0</td>\n",
       "      <td>1.0</td>\n",
       "      <td>0.0</td>\n",
       "      <td>...</td>\n",
       "      <td>0.0</td>\n",
       "      <td>1.0</td>\n",
       "      <td>0.0</td>\n",
       "      <td>0.0</td>\n",
       "      <td>1.0</td>\n",
       "      <td>0.0</td>\n",
       "      <td>0.0</td>\n",
       "      <td>0.0</td>\n",
       "      <td>0.0</td>\n",
       "      <td>0.0</td>\n",
       "    </tr>\n",
       "    <tr>\n",
       "      <th>3</th>\n",
       "      <td>0</td>\n",
       "      <td>NaN</td>\n",
       "      <td>NaN</td>\n",
       "      <td>NaN</td>\n",
       "      <td>NaN</td>\n",
       "      <td>NaN</td>\n",
       "      <td>NaN</td>\n",
       "      <td>NaN</td>\n",
       "      <td>1.0</td>\n",
       "      <td>0.0</td>\n",
       "      <td>...</td>\n",
       "      <td>0.0</td>\n",
       "      <td>1.0</td>\n",
       "      <td>0.0</td>\n",
       "      <td>0.0</td>\n",
       "      <td>0.0</td>\n",
       "      <td>0.0</td>\n",
       "      <td>0.0</td>\n",
       "      <td>0.0</td>\n",
       "      <td>0.0</td>\n",
       "      <td>0.0</td>\n",
       "    </tr>\n",
       "    <tr>\n",
       "      <th>4</th>\n",
       "      <td>0</td>\n",
       "      <td>NaN</td>\n",
       "      <td>NaN</td>\n",
       "      <td>36.966427</td>\n",
       "      <td>-95.84403</td>\n",
       "      <td>0.0</td>\n",
       "      <td>9826675.0</td>\n",
       "      <td>0.0</td>\n",
       "      <td>0.0</td>\n",
       "      <td>0.0</td>\n",
       "      <td>...</td>\n",
       "      <td>0.0</td>\n",
       "      <td>1.0</td>\n",
       "      <td>0.0</td>\n",
       "      <td>0.0</td>\n",
       "      <td>1.0</td>\n",
       "      <td>0.0</td>\n",
       "      <td>0.0</td>\n",
       "      <td>0.0</td>\n",
       "      <td>0.0</td>\n",
       "      <td>0.0</td>\n",
       "    </tr>\n",
       "  </tbody>\n",
       "</table>\n",
       "<p>5 rows × 185 columns</p>\n",
       "</div>"
      ],
      "text/plain": [
       "   signup_flow  sum_secs_elapsed  counts  lat_destination  lng_destination  \\\n",
       "0            0               NaN     NaN              NaN              NaN   \n",
       "1            0               NaN     NaN              NaN              NaN   \n",
       "2            3               NaN     NaN        36.966427        -95.84403   \n",
       "3            0               NaN     NaN              NaN              NaN   \n",
       "4            0               NaN     NaN        36.966427        -95.84403   \n",
       "\n",
       "   distance_km  destination_km2  language_levenshtein_distance  FEMALE  MALE  \\\n",
       "0          NaN              NaN                            NaN     0.0   0.0   \n",
       "1          NaN              NaN                            NaN     0.0   1.0   \n",
       "2          0.0        9826675.0                            0.0     1.0   0.0   \n",
       "3          NaN              NaN                            NaN     1.0   0.0   \n",
       "4          0.0        9826675.0                            0.0     0.0   0.0   \n",
       "\n",
       "  ...   lag_account_created_first_active_before  \\\n",
       "0 ...                                       0.0   \n",
       "1 ...                                       0.0   \n",
       "2 ...                                       0.0   \n",
       "3 ...                                       0.0   \n",
       "4 ...                                       0.0   \n",
       "\n",
       "   lag_account_created_first_active_greater1  \\\n",
       "0                                        1.0   \n",
       "1                                        1.0   \n",
       "2                                        1.0   \n",
       "3                                        1.0   \n",
       "4                                        1.0   \n",
       "\n",
       "   lag_account_created_first_active_sameday  deu  eng  fra  ita  nld  por  spa  \n",
       "0                                       0.0  0.0  0.0  0.0  0.0  0.0  0.0  0.0  \n",
       "1                                       0.0  0.0  0.0  0.0  0.0  0.0  0.0  0.0  \n",
       "2                                       0.0  0.0  1.0  0.0  0.0  0.0  0.0  0.0  \n",
       "3                                       0.0  0.0  0.0  0.0  0.0  0.0  0.0  0.0  \n",
       "4                                       0.0  0.0  1.0  0.0  0.0  0.0  0.0  0.0  \n",
       "\n",
       "[5 rows x 185 columns]"
      ]
     },
     "execution_count": 37,
     "metadata": {},
     "output_type": "execute_result"
    }
   ],
   "source": [
    "train_x.head()\n"
   ]
  },
  {
   "cell_type": "code",
   "execution_count": 38,
   "metadata": {
    "collapsed": true
   },
   "outputs": [],
   "source": [
    "train_y = train_m.loc[:,'country_destination']"
   ]
  },
  {
   "cell_type": "code",
   "execution_count": 39,
   "metadata": {
    "collapsed": false
   },
   "outputs": [
    {
     "data": {
      "text/html": [
       "<div>\n",
       "<table border=\"1\" class=\"dataframe\">\n",
       "  <thead>\n",
       "    <tr style=\"text-align: right;\">\n",
       "      <th></th>\n",
       "      <th>signup_flow</th>\n",
       "      <th>sum_secs_elapsed</th>\n",
       "      <th>counts</th>\n",
       "      <th>lat_destination</th>\n",
       "      <th>lng_destination</th>\n",
       "      <th>distance_km</th>\n",
       "      <th>destination_km2</th>\n",
       "      <th>language_levenshtein_distance</th>\n",
       "      <th>FEMALE</th>\n",
       "      <th>MALE</th>\n",
       "      <th>...</th>\n",
       "      <th>lag_account_created_first_active_before</th>\n",
       "      <th>lag_account_created_first_active_greater1</th>\n",
       "      <th>lag_account_created_first_active_sameday</th>\n",
       "      <th>deu</th>\n",
       "      <th>eng</th>\n",
       "      <th>fra</th>\n",
       "      <th>ita</th>\n",
       "      <th>nld</th>\n",
       "      <th>por</th>\n",
       "      <th>spa</th>\n",
       "    </tr>\n",
       "  </thead>\n",
       "  <tbody>\n",
       "    <tr>\n",
       "      <th>0</th>\n",
       "      <td>0</td>\n",
       "      <td>-999.0</td>\n",
       "      <td>-999.0</td>\n",
       "      <td>-999.000000</td>\n",
       "      <td>-999.00000</td>\n",
       "      <td>-999.0</td>\n",
       "      <td>-999.0</td>\n",
       "      <td>-999.0</td>\n",
       "      <td>0.0</td>\n",
       "      <td>0.0</td>\n",
       "      <td>...</td>\n",
       "      <td>0.0</td>\n",
       "      <td>1.0</td>\n",
       "      <td>0.0</td>\n",
       "      <td>0.0</td>\n",
       "      <td>0.0</td>\n",
       "      <td>0.0</td>\n",
       "      <td>0.0</td>\n",
       "      <td>0.0</td>\n",
       "      <td>0.0</td>\n",
       "      <td>0.0</td>\n",
       "    </tr>\n",
       "    <tr>\n",
       "      <th>1</th>\n",
       "      <td>0</td>\n",
       "      <td>-999.0</td>\n",
       "      <td>-999.0</td>\n",
       "      <td>-999.000000</td>\n",
       "      <td>-999.00000</td>\n",
       "      <td>-999.0</td>\n",
       "      <td>-999.0</td>\n",
       "      <td>-999.0</td>\n",
       "      <td>0.0</td>\n",
       "      <td>1.0</td>\n",
       "      <td>...</td>\n",
       "      <td>0.0</td>\n",
       "      <td>1.0</td>\n",
       "      <td>0.0</td>\n",
       "      <td>0.0</td>\n",
       "      <td>0.0</td>\n",
       "      <td>0.0</td>\n",
       "      <td>0.0</td>\n",
       "      <td>0.0</td>\n",
       "      <td>0.0</td>\n",
       "      <td>0.0</td>\n",
       "    </tr>\n",
       "    <tr>\n",
       "      <th>2</th>\n",
       "      <td>3</td>\n",
       "      <td>-999.0</td>\n",
       "      <td>-999.0</td>\n",
       "      <td>36.966427</td>\n",
       "      <td>-95.84403</td>\n",
       "      <td>0.0</td>\n",
       "      <td>9826675.0</td>\n",
       "      <td>0.0</td>\n",
       "      <td>1.0</td>\n",
       "      <td>0.0</td>\n",
       "      <td>...</td>\n",
       "      <td>0.0</td>\n",
       "      <td>1.0</td>\n",
       "      <td>0.0</td>\n",
       "      <td>0.0</td>\n",
       "      <td>1.0</td>\n",
       "      <td>0.0</td>\n",
       "      <td>0.0</td>\n",
       "      <td>0.0</td>\n",
       "      <td>0.0</td>\n",
       "      <td>0.0</td>\n",
       "    </tr>\n",
       "    <tr>\n",
       "      <th>3</th>\n",
       "      <td>0</td>\n",
       "      <td>-999.0</td>\n",
       "      <td>-999.0</td>\n",
       "      <td>-999.000000</td>\n",
       "      <td>-999.00000</td>\n",
       "      <td>-999.0</td>\n",
       "      <td>-999.0</td>\n",
       "      <td>-999.0</td>\n",
       "      <td>1.0</td>\n",
       "      <td>0.0</td>\n",
       "      <td>...</td>\n",
       "      <td>0.0</td>\n",
       "      <td>1.0</td>\n",
       "      <td>0.0</td>\n",
       "      <td>0.0</td>\n",
       "      <td>0.0</td>\n",
       "      <td>0.0</td>\n",
       "      <td>0.0</td>\n",
       "      <td>0.0</td>\n",
       "      <td>0.0</td>\n",
       "      <td>0.0</td>\n",
       "    </tr>\n",
       "    <tr>\n",
       "      <th>4</th>\n",
       "      <td>0</td>\n",
       "      <td>-999.0</td>\n",
       "      <td>-999.0</td>\n",
       "      <td>36.966427</td>\n",
       "      <td>-95.84403</td>\n",
       "      <td>0.0</td>\n",
       "      <td>9826675.0</td>\n",
       "      <td>0.0</td>\n",
       "      <td>0.0</td>\n",
       "      <td>0.0</td>\n",
       "      <td>...</td>\n",
       "      <td>0.0</td>\n",
       "      <td>1.0</td>\n",
       "      <td>0.0</td>\n",
       "      <td>0.0</td>\n",
       "      <td>1.0</td>\n",
       "      <td>0.0</td>\n",
       "      <td>0.0</td>\n",
       "      <td>0.0</td>\n",
       "      <td>0.0</td>\n",
       "      <td>0.0</td>\n",
       "    </tr>\n",
       "  </tbody>\n",
       "</table>\n",
       "<p>5 rows × 185 columns</p>\n",
       "</div>"
      ],
      "text/plain": [
       "   signup_flow  sum_secs_elapsed  counts  lat_destination  lng_destination  \\\n",
       "0            0            -999.0  -999.0      -999.000000       -999.00000   \n",
       "1            0            -999.0  -999.0      -999.000000       -999.00000   \n",
       "2            3            -999.0  -999.0        36.966427        -95.84403   \n",
       "3            0            -999.0  -999.0      -999.000000       -999.00000   \n",
       "4            0            -999.0  -999.0        36.966427        -95.84403   \n",
       "\n",
       "   distance_km  destination_km2  language_levenshtein_distance  FEMALE  MALE  \\\n",
       "0       -999.0           -999.0                         -999.0     0.0   0.0   \n",
       "1       -999.0           -999.0                         -999.0     0.0   1.0   \n",
       "2          0.0        9826675.0                            0.0     1.0   0.0   \n",
       "3       -999.0           -999.0                         -999.0     1.0   0.0   \n",
       "4          0.0        9826675.0                            0.0     0.0   0.0   \n",
       "\n",
       "  ...   lag_account_created_first_active_before  \\\n",
       "0 ...                                       0.0   \n",
       "1 ...                                       0.0   \n",
       "2 ...                                       0.0   \n",
       "3 ...                                       0.0   \n",
       "4 ...                                       0.0   \n",
       "\n",
       "   lag_account_created_first_active_greater1  \\\n",
       "0                                        1.0   \n",
       "1                                        1.0   \n",
       "2                                        1.0   \n",
       "3                                        1.0   \n",
       "4                                        1.0   \n",
       "\n",
       "   lag_account_created_first_active_sameday  deu  eng  fra  ita  nld  por  spa  \n",
       "0                                       0.0  0.0  0.0  0.0  0.0  0.0  0.0  0.0  \n",
       "1                                       0.0  0.0  0.0  0.0  0.0  0.0  0.0  0.0  \n",
       "2                                       0.0  0.0  1.0  0.0  0.0  0.0  0.0  0.0  \n",
       "3                                       0.0  0.0  0.0  0.0  0.0  0.0  0.0  0.0  \n",
       "4                                       0.0  0.0  1.0  0.0  0.0  0.0  0.0  0.0  \n",
       "\n",
       "[5 rows x 185 columns]"
      ]
     },
     "execution_count": 39,
     "metadata": {},
     "output_type": "execute_result"
    }
   ],
   "source": [
    "titanic = train_x.fillna(-999)\n",
    "#pd.isnull(titanic).any()\n",
    "titanic.head()"
   ]
  },
  {
   "cell_type": "code",
   "execution_count": 40,
   "metadata": {
    "collapsed": false
   },
   "outputs": [
    {
     "data": {
      "text/plain": [
       "array([[  0.00000000e+00,  -9.99000000e+02,  -9.99000000e+02, ...,\n",
       "          0.00000000e+00,   0.00000000e+00,   0.00000000e+00],\n",
       "       [  0.00000000e+00,  -9.99000000e+02,  -9.99000000e+02, ...,\n",
       "          0.00000000e+00,   0.00000000e+00,   0.00000000e+00],\n",
       "       [  3.00000000e+00,  -9.99000000e+02,  -9.99000000e+02, ...,\n",
       "          0.00000000e+00,   0.00000000e+00,   0.00000000e+00],\n",
       "       ..., \n",
       "       [  0.00000000e+00,   3.42982000e+05,   1.80000000e+01, ...,\n",
       "          0.00000000e+00,   0.00000000e+00,   0.00000000e+00],\n",
       "       [  2.50000000e+01,   3.41609000e+05,   7.50000000e+01, ...,\n",
       "          0.00000000e+00,   0.00000000e+00,   0.00000000e+00],\n",
       "       [  2.50000000e+01,   2.75921000e+06,   4.10000000e+01, ...,\n",
       "          0.00000000e+00,   0.00000000e+00,   0.00000000e+00]])"
      ]
     },
     "execution_count": 40,
     "metadata": {},
     "output_type": "execute_result"
    }
   ],
   "source": [
    "type(titanic) #DF\n",
    "titanic.values"
   ]
  },
  {
   "cell_type": "code",
   "execution_count": 41,
   "metadata": {
    "collapsed": false
   },
   "outputs": [
    {
     "data": {
      "text/plain": [
       "numpy.ndarray"
      ]
     },
     "execution_count": 41,
     "metadata": {},
     "output_type": "execute_result"
    }
   ],
   "source": [
    "titanic_new = np.hstack((titanic))\n",
    "type(titanic_new)"
   ]
  },
  {
   "cell_type": "code",
   "execution_count": 42,
   "metadata": {
    "collapsed": false
   },
   "outputs": [
    {
     "data": {
      "text/plain": [
       "array(['signup_flow', 'sum_secs_elapsed', 'counts', 'lat_destination',\n",
       "       'lng_destination', 'distance_km', 'destination_km2',\n",
       "       'language_levenshtein_distance', 'FEMALE', 'MALE', 'gender_unknown',\n",
       "       'gender_other', '0-4', '100+', '15-19', '20-24', '25-29', '30-34',\n",
       "       '35-39', '40-44', '45-49', '5-9', '50-54', '55-59', '60-64',\n",
       "       '65-69', '70-74', '75-79', '80-84', '85-89', '90-94', '95-99',\n",
       "       'age_NA', 'basic', 'facebook', 'google', 'ca', 'cs', 'da', 'de',\n",
       "       'el', 'en', 'es', 'fi', 'fr', 'hr', 'hu', 'id', 'is', 'it', 'ja',\n",
       "       'ko', 'nl', 'no', 'pl', 'pt', 'ru', 'sv', 'th', 'tr', 'zh', 'api',\n",
       "       'content', 'direct', 'other', 'remarketing', 'sem-brand',\n",
       "       'sem-non-brand', 'seo', 'baidu', 'bing', 'craigslist', 'daum',\n",
       "       'email-marketing', 'facebook-open-graph', 'gsp', 'meetup', 'naver',\n",
       "       'padmapper', 'vast', 'wayn', 'yahoo', 'yandex', 'linked',\n",
       "       'local ops', 'marketing', 'omg', 'product', 'tracked-other',\n",
       "       'untracked', 'Android', 'Moweb', 'Web', 'iOS', 'Android Phone',\n",
       "       'Android Tablet', 'Desktop (Other)', 'Mac Desktop', 'Other/Unknown',\n",
       "       'SmartPhone (Other)', 'Windows Desktop', 'iPad', 'iPhone',\n",
       "       'AOL Explorer', 'Android Browser', 'Apple Mail', 'Arora',\n",
       "       'Avant Browser', 'BlackBerry Browser', 'Camino', 'Chrome',\n",
       "       'Chrome Mobile', 'Chromium', 'CometBird', 'Comodo Dragon',\n",
       "       'Conkeror', 'CoolNovo', 'Crazy Browser', 'Epic', 'Firefox', 'Flock',\n",
       "       'Google Earth', 'Googlebot', 'IE', 'IE Mobile', 'IceDragon',\n",
       "       'IceWeasel', 'Iron', 'Kindle Browser', 'Maxthon', 'Mobile Firefox',\n",
       "       'Mobile Safari', 'Mozilla', 'NetNewsWire', 'OmniWeb', 'Opera',\n",
       "       'Opera Mini', 'Opera Mobile', 'Outlook 2007', 'PS Vita browser',\n",
       "       'Pale Moon', 'Palm Pre web browser', 'RockMelt', 'Safari',\n",
       "       'SeaMonkey', 'Silk', 'SiteKiosk', 'SlimBrowser', 'Sogou Explorer',\n",
       "       'Stainless', 'TenFourFox', 'TheWorld Browser', 'Yandex.Browser',\n",
       "       'wOSBrowser', 'first_browser_unknown', 'AU', 'CA', 'DE', 'ES', 'FR',\n",
       "       'GB', 'IT', 'NDF', 'NL', 'PT', 'US', 'country_dest_other',\n",
       "       'lag_account_created_NA', 'lag_account_created_before',\n",
       "       'lag_account_created_greater1', 'lag_account_created_sameday',\n",
       "       'lag_first_active_NA', 'lag_first_active_before',\n",
       "       'lag_first_active_greater1', 'lag_first_active_sameday',\n",
       "       'lag_account_created_first_active_before',\n",
       "       'lag_account_created_first_active_greater1',\n",
       "       'lag_account_created_first_active_sameday', 'deu', 'eng', 'fra',\n",
       "       'ita', 'nld', 'por', 'spa'], \n",
       "      dtype='|S41')"
      ]
     },
     "execution_count": 42,
     "metadata": {},
     "output_type": "execute_result"
    }
   ],
   "source": [
    "titanic_new = np.hstack((titanic))\n",
    "type(titanic_new)\n",
    "titanic_new"
   ]
  },
  {
   "cell_type": "code",
   "execution_count": 43,
   "metadata": {
    "collapsed": false
   },
   "outputs": [
    {
     "data": {
      "text/plain": [
       "1"
      ]
     },
     "execution_count": 43,
     "metadata": {},
     "output_type": "execute_result"
    }
   ],
   "source": [
    "titanic_new[0].size"
   ]
  },
  {
   "cell_type": "code",
   "execution_count": 44,
   "metadata": {
    "collapsed": true
   },
   "outputs": [],
   "source": [
    "train.rename(columns={'country_destination': 'class'}, inplace=True)\n"
   ]
  },
  {
   "cell_type": "code",
   "execution_count": 45,
   "metadata": {
    "collapsed": false
   },
   "outputs": [],
   "source": [
    "# train = pd.read_csv('data/train_users_2.csv')\n",
    "# train.rename(columns={'country_destination': 'class'}, inplace=True)\n",
    "titanic_class = train['class'].values\n"
   ]
  },
  {
   "cell_type": "code",
   "execution_count": 46,
   "metadata": {
    "collapsed": false
   },
   "outputs": [
    {
     "data": {
      "text/plain": [
       "array(['NDF', 'US', 'other', 'FR', 'CA', 'GB', 'ES', 'IT', 'PT', 'NL',\n",
       "       'DE', 'AU'], dtype=object)"
      ]
     },
     "execution_count": 46,
     "metadata": {},
     "output_type": "execute_result"
    }
   ],
   "source": [
    "train['class'].unique()"
   ]
  },
  {
   "cell_type": "code",
   "execution_count": 47,
   "metadata": {
    "collapsed": false
   },
   "outputs": [
    {
     "name": "stdout",
     "output_type": "stream",
     "text": [
      "[ 7  7 10 ...,  7  7  7]\n"
     ]
    },
    {
     "data": {
      "text/plain": [
       "array(['NDF', 'NDF', 'US', ..., 'NDF', 'NDF', 'NDF'], dtype=object)"
      ]
     },
     "execution_count": 47,
     "metadata": {},
     "output_type": "execute_result"
    }
   ],
   "source": [
    "train_labels = train['class'].values\n",
    "from sklearn import preprocessing\n",
    "le = preprocessing.LabelEncoder()\n",
    "le.fit(train_labels)\n",
    "train_labels = le.transform(train_labels)\n",
    "print train_labels\n",
    "le.inverse_transform(train_labels)"
   ]
  },
  {
   "cell_type": "code",
   "execution_count": null,
   "metadata": {
    "collapsed": true
   },
   "outputs": [],
   "source": [
    "#le = preprocessing.LabelEncoder()"
   ]
  },
  {
   "cell_type": "code",
   "execution_count": null,
   "metadata": {
    "collapsed": false
   },
   "outputs": [
    {
     "name": "stderr",
     "output_type": "stream",
     "text": [
      "Optimization Progress:   1%|▏         | 4/300 [17:23<20:00:58, 243.44s/pipeline]"
     ]
    },
    {
     "name": "stdout",
     "output_type": "stream",
     "text": [
      "Timeout during evaluation of pipeline #4. Skipping to the next pipeline.\n"
     ]
    },
    {
     "name": "stderr",
     "output_type": "stream",
     "text": [
      "Optimization Progress:   2%|▏         | 6/300 [22:40<17:28:23, 213.96s/pipeline]"
     ]
    },
    {
     "name": "stdout",
     "output_type": "stream",
     "text": [
      "Timeout during evaluation of pipeline #6. Skipping to the next pipeline.\n"
     ]
    },
    {
     "name": "stderr",
     "output_type": "stream",
     "text": [
      "\r",
      "          \r",
      "\r",
      "          \r",
      "Optimization Progress:   2%|▏         | 6/300 [09:51<17:28:23, 213.96s/pipeline]\r",
      "Optimization Progress:   2%|▏         | 7/300 [32:31<26:37:48, 327.20s/pipeline]"
     ]
    },
    {
     "name": "stdout",
     "output_type": "stream",
     "text": [
      "Timeout during evaluation of pipeline #7. Skipping to the next pipeline.\n"
     ]
    },
    {
     "name": "stderr",
     "output_type": "stream",
     "text": [
      "\r",
      "          \r",
      "\r",
      "          \r",
      "Optimization Progress:   2%|▏         | 7/300 [05:14<26:37:48, 327.20s/pipeline]\r",
      "Optimization Progress:   3%|▎         | 8/300 [37:46<26:14:17, 323.48s/pipeline]"
     ]
    },
    {
     "name": "stdout",
     "output_type": "stream",
     "text": [
      "Timeout during evaluation of pipeline #8. Skipping to the next pipeline.\n"
     ]
    },
    {
     "name": "stderr",
     "output_type": "stream",
     "text": [
      "Optimization Progress:   4%|▎         | 11/300 [50:31<26:43:32, 332.91s/pipeline]"
     ]
    },
    {
     "name": "stdout",
     "output_type": "stream",
     "text": [
      "Timeout during evaluation of pipeline #11. Skipping to the next pipeline.\n"
     ]
    },
    {
     "name": "stderr",
     "output_type": "stream",
     "text": [
      "\r",
      "          \r",
      "\r",
      "          \r",
      "Optimization Progress:   4%|▎         | 11/300 [2:01:57<26:43:32, 332.91s/pipeline]\r",
      "Optimization Progress:   4%|▍         | 12/300 [2:52:31<194:18:33, 2428.87s/pipeline]"
     ]
    },
    {
     "name": "stdout",
     "output_type": "stream",
     "text": [
      "Timeout during evaluation of pipeline #12. Skipping to the next pipeline.\n"
     ]
    },
    {
     "name": "stderr",
     "output_type": "stream",
     "text": [
      "\r",
      "Optimization Progress:   4%|▍         | 13/300 [2:57:48<143:07:51, 1795.37s/pipeline]"
     ]
    }
   ],
   "source": [
    "tpot = TPOTClassifier(generations=2, verbosity=2)\n",
    "tpot.fit(titanic.values, train_labels)"
   ]
  }
 ],
 "metadata": {
  "kernelspec": {
   "display_name": "Python 2",
   "language": "python",
   "name": "python2"
  },
  "language_info": {
   "codemirror_mode": {
    "name": "ipython",
    "version": 2
   },
   "file_extension": ".py",
   "mimetype": "text/x-python",
   "name": "python",
   "nbconvert_exporter": "python",
   "pygments_lexer": "ipython2",
   "version": "2.7.11"
  }
 },
 "nbformat": 4,
 "nbformat_minor": 0
}
